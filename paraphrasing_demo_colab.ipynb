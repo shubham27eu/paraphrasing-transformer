{
  "cells": [
    {
      "cell_type": "markdown",
      "id": "61fe6dfd",
      "metadata": {
        "id": "61fe6dfd"
      },
      "source": [
        "# 🧠 Transformer Paraphrasing (Colab Demo)\n",
        "Colab notebook for running inference using a custom Transformer-based paraphrasing model.\n",
        "\n",
        "---\n",
        "**Features:**\n",
        "- Loads model & vocab from GitHub using `gdown`\n",
        "- Runs beam search decoding\n",
        "- Supports token-level attention\n",
        "\n",
        "---"
      ]
    },
    {
      "cell_type": "code",
      "execution_count": 1,
      "id": "60c655db",
      "metadata": {
        "colab": {
          "base_uri": "https://localhost:8080/"
        },
        "id": "60c655db",
        "outputId": "84e0bc34-d1ed-4c43-de44-7d853e6089ca"
      },
      "outputs": [
        {
          "output_type": "stream",
          "name": "stderr",
          "text": [
            "[nltk_data] Downloading package punkt to /root/nltk_data...\n",
            "[nltk_data]   Package punkt is already up-to-date!\n"
          ]
        },
        {
          "output_type": "execute_result",
          "data": {
            "text/plain": [
              "True"
            ]
          },
          "metadata": {},
          "execution_count": 1
        }
      ],
      "source": [
        "# 📦 Install required libraries\n",
        "!pip install -q nltk\n",
        "import nltk\n",
        "nltk.download('punkt')"
      ]
    },
    {
      "cell_type": "code",
      "execution_count": null,
      "id": "a4534d6b",
      "metadata": {
        "id": "a4534d6b"
      },
      "outputs": [],
      "source": [
        "# ✅ Imports and global variables\n",
        "import os, torch, pickle\n",
        "import numpy as np\n",
        "import pandas as pd\n",
        "import torch.nn as nn\n",
        "from collections import Counter\n",
        "from nltk.tokenize import word_tokenize\n",
        "from urllib.request import urlretrieve\n",
        "from torch.utils.data import Dataset, DataLoader\n",
        "\n",
        "MAX_LEN = 20\n",
        "EMBED_DIM = 100\n",
        "HIDDEN_DIM = 256\n",
        "DEVICE = torch.device(\"cuda\" if torch.cuda.is_available() else \"cpu\")\n",
        "GLOVE_PATH = \"glove.6B.100d.txt\""
      ]
    },
    {
      "cell_type": "code",
      "execution_count": null,
      "id": "3d43ef80",
      "metadata": {
        "id": "3d43ef80"
      },
      "outputs": [],
      "source": [
        "# 🔣 Tokenization and GloVe loading\n",
        "def tokenize(text): return word_tokenize(text.lower())\n",
        "\n",
        "def sentence_to_indices(sentence, vocab):\n",
        "    return [vocab.get(w, vocab['<unk>']) for w in tokenize(sentence)]\n",
        "\n",
        "def load_glove_embeddings(vocab):\n",
        "    if not os.path.exists(GLOVE_PATH):\n",
        "        print(\"⏬ Downloading GloVe embeddings...\")\n",
        "        urlretrieve(\"http://nlp.stanford.edu/data/glove.6B.zip\", \"glove.zip\")\n",
        "        import zipfile\n",
        "        with zipfile.ZipFile(\"glove.zip\", \"r\") as zip_ref:\n",
        "            zip_ref.extractall()\n",
        "    matrix = np.random.uniform(-0.1, 0.1, (len(vocab), EMBED_DIM))\n",
        "    matrix[vocab['<pad>']] = 0\n",
        "    with open(GLOVE_PATH, 'r', encoding='utf-8') as f:\n",
        "        for line in f:\n",
        "            w, *vec = line.strip().split()\n",
        "            if w in vocab:\n",
        "                matrix[vocab[w]] = np.array(vec, dtype=np.float32)\n",
        "    return torch.tensor(matrix, dtype=torch.float)"
      ]
    },
    {
      "cell_type": "code",
      "execution_count": null,
      "id": "ba2d4080",
      "metadata": {
        "id": "ba2d4080"
      },
      "outputs": [],
      "source": [
        "# 🧠 Transformer model class\n",
        "class TransformerParaphraser(nn.Module):\n",
        "    def __init__(self, input_vocab, target_vocab, emb1, emb2):\n",
        "        super().__init__()\n",
        "        self.src_embed = nn.Embedding.from_pretrained(emb1, freeze=False)\n",
        "        self.tgt_embed = nn.Embedding.from_pretrained(emb2, freeze=False)\n",
        "        self.pos_enc = nn.Parameter(torch.rand(1, MAX_LEN, EMBED_DIM))\n",
        "        self.tr = nn.Transformer(d_model=EMBED_DIM, nhead=4, num_encoder_layers=2, num_decoder_layers=2,\n",
        "                                dim_feedforward=512, batch_first=True)\n",
        "        self.fc = nn.Linear(EMBED_DIM, len(target_vocab))\n",
        "        self.pad_idx = target_vocab['<pad>']\n",
        "\n",
        "    def forward(self, src, tgt):\n",
        "        src_mask = src == self.pad_idx\n",
        "        tgt_mask = self.generate_square_subsequent_mask(tgt.size(1)).to(DEVICE)\n",
        "        src = self.src_embed(src) + self.pos_enc[:, :src.size(1)]\n",
        "        tgt = self.tgt_embed(tgt) + self.pos_enc[:, :tgt.size(1)]\n",
        "        out = self.tr(src, tgt, tgt_mask=tgt_mask, src_key_padding_mask=src_mask)\n",
        "        return self.fc(out)\n",
        "\n",
        "    def generate_square_subsequent_mask(self, sz):\n",
        "        return torch.triu(torch.ones(sz, sz) * float('-inf'), diagonal=1)"
      ]
    },
    {
      "cell_type": "code",
      "execution_count": null,
      "id": "107f62df",
      "metadata": {
        "id": "107f62df"
      },
      "outputs": [],
      "source": [
        "# 🧠 Transformer model class\n",
        "class TransformerParaphraser(nn.Module):\n",
        "    def __init__(self, input_vocab, target_vocab, emb1, emb2):\n",
        "        super().__init__()\n",
        "        self.src_embed = nn.Embedding.from_pretrained(emb1, freeze=False)\n",
        "        self.tgt_embed = nn.Embedding.from_pretrained(emb2, freeze=False)\n",
        "        self.pos_enc = nn.Parameter(torch.rand(1, MAX_LEN, EMBED_DIM))\n",
        "        self.tr = nn.Transformer(d_model=EMBED_DIM, nhead=4, num_encoder_layers=2, num_decoder_layers=2,\n",
        "                                dim_feedforward=512, batch_first=True)\n",
        "        self.fc = nn.Linear(EMBED_DIM, len(target_vocab))\n",
        "        self.pad_idx = target_vocab['<pad>']\n",
        "\n",
        "    def forward(self, src, tgt):\n",
        "        src_mask = src == self.pad_idx\n",
        "        tgt_mask = self.generate_square_subsequent_mask(tgt.size(1)).to(DEVICE)\n",
        "        src = self.src_embed(src) + self.pos_enc[:, :src.size(1)]\n",
        "        tgt = self.tgt_embed(tgt) + self.pos_enc[:, :tgt.size(1)]\n",
        "        out = self.tr(src, tgt, tgt_mask=tgt_mask, src_key_padding_mask=src_mask)\n",
        "        return self.fc(out)\n",
        "\n",
        "    def generate_square_subsequent_mask(self, sz):\n",
        "        return torch.triu(torch.ones(sz, sz) * float('-inf'), diagonal=1)"
      ]
    },
    {
      "cell_type": "code",
      "source": [
        "# ✅ Upload your Kaggle JSON token to access the dataset\n",
        "!pip install -q kaggle\n",
        "\n",
        "from google.colab import files\n",
        "uploaded = files.upload()  # Upload kaggle.json manually here\n",
        "\n",
        "!mkdir -p ~/.kaggle\n",
        "!mv kaggle.json ~/.kaggle/\n",
        "!chmod 600 ~/.kaggle/kaggle.json\n",
        "\n",
        "# ✅ Download the Quora Question Pairs dataset\n",
        "!kaggle datasets download -d quora-question-pairs\n",
        "!unzip -q quora-question-pairs.zip -d quora-question-pairs\n",
        "\n",
        "import os\n",
        "!ls quora-question-pairs\n",
        "!unzip -q quora-question-pairs/train.csv.zip -d quora-question-pairs\n",
        "!unzip -q quora-question-pairs/test.csv.zip -d quora-question-pairs\n",
        "!unzip -q quora-question-pairs/sample_submission.csv.zip -d quora-question-pairs\n",
        "\n",
        "# Check if the 'train.csv' file exists in the extracted folder\n",
        "if os.path.exists('quora-question-pairs/train.csv'):\n",
        "    print(\"File found!\")\n",
        "else:\n",
        "    print(\"File not found. Please check the extraction process.\")\n",
        "\n",
        "# ✅ Load and filter duplicates\n",
        "import pandas as pd\n",
        "\n",
        "df = pd.read_csv(\"quora-question-pairs/train.csv\").dropna()\n",
        "df = df[df[\"is_duplicate\"] == 1][[\"question1\", \"question2\"]]\n",
        "print(\"Total duplicate pairs:\", len(df))"
      ],
      "metadata": {
        "colab": {
          "base_uri": "https://localhost:8080/",
          "height": 460
        },
        "id": "TO7TV3nK4T5w",
        "outputId": "4ba31592-337b-4468-a3d5-ff15b07bb09b"
      },
      "id": "TO7TV3nK4T5w",
      "execution_count": null,
      "outputs": [
        {
          "output_type": "display_data",
          "data": {
            "text/plain": [
              "<IPython.core.display.HTML object>"
            ],
            "text/html": [
              "\n",
              "     <input type=\"file\" id=\"files-7924eb27-67a6-4246-93fc-a9cba7a0690f\" name=\"files[]\" multiple disabled\n",
              "        style=\"border:none\" />\n",
              "     <output id=\"result-7924eb27-67a6-4246-93fc-a9cba7a0690f\">\n",
              "      Upload widget is only available when the cell has been executed in the\n",
              "      current browser session. Please rerun this cell to enable.\n",
              "      </output>\n",
              "      <script>// Copyright 2017 Google LLC\n",
              "//\n",
              "// Licensed under the Apache License, Version 2.0 (the \"License\");\n",
              "// you may not use this file except in compliance with the License.\n",
              "// You may obtain a copy of the License at\n",
              "//\n",
              "//      http://www.apache.org/licenses/LICENSE-2.0\n",
              "//\n",
              "// Unless required by applicable law or agreed to in writing, software\n",
              "// distributed under the License is distributed on an \"AS IS\" BASIS,\n",
              "// WITHOUT WARRANTIES OR CONDITIONS OF ANY KIND, either express or implied.\n",
              "// See the License for the specific language governing permissions and\n",
              "// limitations under the License.\n",
              "\n",
              "/**\n",
              " * @fileoverview Helpers for google.colab Python module.\n",
              " */\n",
              "(function(scope) {\n",
              "function span(text, styleAttributes = {}) {\n",
              "  const element = document.createElement('span');\n",
              "  element.textContent = text;\n",
              "  for (const key of Object.keys(styleAttributes)) {\n",
              "    element.style[key] = styleAttributes[key];\n",
              "  }\n",
              "  return element;\n",
              "}\n",
              "\n",
              "// Max number of bytes which will be uploaded at a time.\n",
              "const MAX_PAYLOAD_SIZE = 100 * 1024;\n",
              "\n",
              "function _uploadFiles(inputId, outputId) {\n",
              "  const steps = uploadFilesStep(inputId, outputId);\n",
              "  const outputElement = document.getElementById(outputId);\n",
              "  // Cache steps on the outputElement to make it available for the next call\n",
              "  // to uploadFilesContinue from Python.\n",
              "  outputElement.steps = steps;\n",
              "\n",
              "  return _uploadFilesContinue(outputId);\n",
              "}\n",
              "\n",
              "// This is roughly an async generator (not supported in the browser yet),\n",
              "// where there are multiple asynchronous steps and the Python side is going\n",
              "// to poll for completion of each step.\n",
              "// This uses a Promise to block the python side on completion of each step,\n",
              "// then passes the result of the previous step as the input to the next step.\n",
              "function _uploadFilesContinue(outputId) {\n",
              "  const outputElement = document.getElementById(outputId);\n",
              "  const steps = outputElement.steps;\n",
              "\n",
              "  const next = steps.next(outputElement.lastPromiseValue);\n",
              "  return Promise.resolve(next.value.promise).then((value) => {\n",
              "    // Cache the last promise value to make it available to the next\n",
              "    // step of the generator.\n",
              "    outputElement.lastPromiseValue = value;\n",
              "    return next.value.response;\n",
              "  });\n",
              "}\n",
              "\n",
              "/**\n",
              " * Generator function which is called between each async step of the upload\n",
              " * process.\n",
              " * @param {string} inputId Element ID of the input file picker element.\n",
              " * @param {string} outputId Element ID of the output display.\n",
              " * @return {!Iterable<!Object>} Iterable of next steps.\n",
              " */\n",
              "function* uploadFilesStep(inputId, outputId) {\n",
              "  const inputElement = document.getElementById(inputId);\n",
              "  inputElement.disabled = false;\n",
              "\n",
              "  const outputElement = document.getElementById(outputId);\n",
              "  outputElement.innerHTML = '';\n",
              "\n",
              "  const pickedPromise = new Promise((resolve) => {\n",
              "    inputElement.addEventListener('change', (e) => {\n",
              "      resolve(e.target.files);\n",
              "    });\n",
              "  });\n",
              "\n",
              "  const cancel = document.createElement('button');\n",
              "  inputElement.parentElement.appendChild(cancel);\n",
              "  cancel.textContent = 'Cancel upload';\n",
              "  const cancelPromise = new Promise((resolve) => {\n",
              "    cancel.onclick = () => {\n",
              "      resolve(null);\n",
              "    };\n",
              "  });\n",
              "\n",
              "  // Wait for the user to pick the files.\n",
              "  const files = yield {\n",
              "    promise: Promise.race([pickedPromise, cancelPromise]),\n",
              "    response: {\n",
              "      action: 'starting',\n",
              "    }\n",
              "  };\n",
              "\n",
              "  cancel.remove();\n",
              "\n",
              "  // Disable the input element since further picks are not allowed.\n",
              "  inputElement.disabled = true;\n",
              "\n",
              "  if (!files) {\n",
              "    return {\n",
              "      response: {\n",
              "        action: 'complete',\n",
              "      }\n",
              "    };\n",
              "  }\n",
              "\n",
              "  for (const file of files) {\n",
              "    const li = document.createElement('li');\n",
              "    li.append(span(file.name, {fontWeight: 'bold'}));\n",
              "    li.append(span(\n",
              "        `(${file.type || 'n/a'}) - ${file.size} bytes, ` +\n",
              "        `last modified: ${\n",
              "            file.lastModifiedDate ? file.lastModifiedDate.toLocaleDateString() :\n",
              "                                    'n/a'} - `));\n",
              "    const percent = span('0% done');\n",
              "    li.appendChild(percent);\n",
              "\n",
              "    outputElement.appendChild(li);\n",
              "\n",
              "    const fileDataPromise = new Promise((resolve) => {\n",
              "      const reader = new FileReader();\n",
              "      reader.onload = (e) => {\n",
              "        resolve(e.target.result);\n",
              "      };\n",
              "      reader.readAsArrayBuffer(file);\n",
              "    });\n",
              "    // Wait for the data to be ready.\n",
              "    let fileData = yield {\n",
              "      promise: fileDataPromise,\n",
              "      response: {\n",
              "        action: 'continue',\n",
              "      }\n",
              "    };\n",
              "\n",
              "    // Use a chunked sending to avoid message size limits. See b/62115660.\n",
              "    let position = 0;\n",
              "    do {\n",
              "      const length = Math.min(fileData.byteLength - position, MAX_PAYLOAD_SIZE);\n",
              "      const chunk = new Uint8Array(fileData, position, length);\n",
              "      position += length;\n",
              "\n",
              "      const base64 = btoa(String.fromCharCode.apply(null, chunk));\n",
              "      yield {\n",
              "        response: {\n",
              "          action: 'append',\n",
              "          file: file.name,\n",
              "          data: base64,\n",
              "        },\n",
              "      };\n",
              "\n",
              "      let percentDone = fileData.byteLength === 0 ?\n",
              "          100 :\n",
              "          Math.round((position / fileData.byteLength) * 100);\n",
              "      percent.textContent = `${percentDone}% done`;\n",
              "\n",
              "    } while (position < fileData.byteLength);\n",
              "  }\n",
              "\n",
              "  // All done.\n",
              "  yield {\n",
              "    response: {\n",
              "      action: 'complete',\n",
              "    }\n",
              "  };\n",
              "}\n",
              "\n",
              "scope.google = scope.google || {};\n",
              "scope.google.colab = scope.google.colab || {};\n",
              "scope.google.colab._files = {\n",
              "  _uploadFiles,\n",
              "  _uploadFilesContinue,\n",
              "};\n",
              "})(self);\n",
              "</script> "
            ]
          },
          "metadata": {}
        },
        {
          "output_type": "stream",
          "name": "stdout",
          "text": [
            "Saving kaggle.json to kaggle.json\n",
            "403 Client Error: Forbidden for url: https://www.kaggle.com/api/v1/datasets/metadata/shubham27eu/quora-question-pairs\n",
            "replace quora-question-pairs/sample_submission.csv.zip? [y]es, [n]o, [A]ll, [N]one, [r]ename: y\n",
            "replace quora-question-pairs/test.csv? [y]es, [n]o, [A]ll, [N]one, [r]ename: y\n",
            "y\n",
            "y\n",
            "y\n",
            "y\n",
            "y\n",
            "replace quora-question-pairs/test.csv.zip? [y]es, [n]o, [A]ll, [N]one, [r]ename: y\n",
            "y\n",
            "y\n",
            "y\n",
            "replace quora-question-pairs/train.csv.zip? [y]es, [n]o, [A]ll, [N]one, [r]ename: y\n",
            "sample_submission.csv  sample_submission.csv.zip  test.csv  test.csv.zip  train.csv  train.csv.zip\n",
            "y\n",
            "replace quora-question-pairs/train.csv? [y]es, [n]o, [A]ll, [N]one, [r]ename: replace quora-question-pairs/test.csv? [y]es, [n]o, [A]ll, [N]one, [r]ename: y\n",
            "y\n",
            "y\n",
            "y\n",
            "y\n",
            "replace quora-question-pairs/sample_submission.csv? [y]es, [n]o, [A]ll, [N]one, [r]ename: y\n",
            "File found!\n",
            "Total duplicate pairs: 149263\n"
          ]
        }
      ]
    },
    {
      "cell_type": "code",
      "source": [
        "import pandas as pd\n",
        "\n",
        "# Load the dataset\n",
        "df = pd.read_csv(\"quora-question-pairs/train.csv\").dropna()\n",
        "\n",
        "# Filter for duplicate questions\n",
        "df = df[df[\"is_duplicate\"] == 1][[\"question1\", \"question2\"]]\n",
        "\n",
        "# Create pairs of questions (each pair consists of question1 and question2)\n",
        "pairs = [(q1, q2) for q1, q2 in zip(df['question1'], df['question2'])]\n",
        "\n",
        "print(\"Total duplicate pairs:\", len(pairs))"
      ],
      "metadata": {
        "id": "MYx4h1B6ESM0",
        "outputId": "159696d3-d11b-4c2b-8388-13aa1a74393b",
        "colab": {
          "base_uri": "https://localhost:8080/"
        }
      },
      "id": "MYx4h1B6ESM0",
      "execution_count": null,
      "outputs": [
        {
          "output_type": "stream",
          "name": "stdout",
          "text": [
            "Total duplicate pairs: 149263\n"
          ]
        }
      ]
    },
    {
      "cell_type": "code",
      "source": [
        "import nltk\n",
        "\n",
        "# Set the custom NLTK data path\n",
        "nltk.data.path = ['/root/nltk_data']\n",
        "\n",
        "# Download punkt tokenizer (correct version)\n",
        "nltk.download('punkt', download_dir='/root/nltk_data')\n",
        "\n",
        "# Import tokenizer\n",
        "from nltk.tokenize import word_tokenize\n",
        "\n",
        "# Test tokenization to check if the correct 'punkt' tokenizer is available\n",
        "test_sentence = \"This is a test sentence.\"\n",
        "print(word_tokenize(test_sentence))"
      ],
      "metadata": {
        "id": "lzIfOhzEF4p-",
        "outputId": "3839e834-1a5f-4439-e86e-88c81602bb54",
        "colab": {
          "base_uri": "https://localhost:8080/",
          "height": 588
        }
      },
      "id": "lzIfOhzEF4p-",
      "execution_count": null,
      "outputs": [
        {
          "output_type": "stream",
          "name": "stderr",
          "text": [
            "[nltk_data] Downloading package punkt to /root/nltk_data...\n",
            "[nltk_data]   Package punkt is already up-to-date!\n"
          ]
        },
        {
          "output_type": "error",
          "ename": "LookupError",
          "evalue": "\n**********************************************************************\n  Resource \u001b[93mpunkt_tab\u001b[0m not found.\n  Please use the NLTK Downloader to obtain the resource:\n\n  \u001b[31m>>> import nltk\n  >>> nltk.download('punkt_tab')\n  \u001b[0m\n  For more information see: https://www.nltk.org/data.html\n\n  Attempted to load \u001b[93mtokenizers/punkt_tab/english/\u001b[0m\n\n  Searched in:\n    - '/root/nltk_data'\n**********************************************************************\n",
          "traceback": [
            "\u001b[0;31m---------------------------------------------------------------------------\u001b[0m",
            "\u001b[0;31mLookupError\u001b[0m                               Traceback (most recent call last)",
            "\u001b[0;32m<ipython-input-8-1342be2ae9d9>\u001b[0m in \u001b[0;36m<cell line: 0>\u001b[0;34m()\u001b[0m\n\u001b[1;32m     12\u001b[0m \u001b[0;31m# Test tokenization to check if the correct 'punkt' tokenizer is available\u001b[0m\u001b[0;34m\u001b[0m\u001b[0;34m\u001b[0m\u001b[0m\n\u001b[1;32m     13\u001b[0m \u001b[0mtest_sentence\u001b[0m \u001b[0;34m=\u001b[0m \u001b[0;34m\"This is a test sentence.\"\u001b[0m\u001b[0;34m\u001b[0m\u001b[0;34m\u001b[0m\u001b[0m\n\u001b[0;32m---> 14\u001b[0;31m \u001b[0mprint\u001b[0m\u001b[0;34m(\u001b[0m\u001b[0mword_tokenize\u001b[0m\u001b[0;34m(\u001b[0m\u001b[0mtest_sentence\u001b[0m\u001b[0;34m)\u001b[0m\u001b[0;34m)\u001b[0m\u001b[0;34m\u001b[0m\u001b[0;34m\u001b[0m\u001b[0m\n\u001b[0m",
            "\u001b[0;32m/usr/local/lib/python3.11/dist-packages/nltk/tokenize/__init__.py\u001b[0m in \u001b[0;36mword_tokenize\u001b[0;34m(text, language, preserve_line)\u001b[0m\n\u001b[1;32m    140\u001b[0m     \u001b[0;34m:\u001b[0m\u001b[0mtype\u001b[0m \u001b[0mpreserve_line\u001b[0m\u001b[0;34m:\u001b[0m \u001b[0mbool\u001b[0m\u001b[0;34m\u001b[0m\u001b[0;34m\u001b[0m\u001b[0m\n\u001b[1;32m    141\u001b[0m     \"\"\"\n\u001b[0;32m--> 142\u001b[0;31m     \u001b[0msentences\u001b[0m \u001b[0;34m=\u001b[0m \u001b[0;34m[\u001b[0m\u001b[0mtext\u001b[0m\u001b[0;34m]\u001b[0m \u001b[0;32mif\u001b[0m \u001b[0mpreserve_line\u001b[0m \u001b[0;32melse\u001b[0m \u001b[0msent_tokenize\u001b[0m\u001b[0;34m(\u001b[0m\u001b[0mtext\u001b[0m\u001b[0;34m,\u001b[0m \u001b[0mlanguage\u001b[0m\u001b[0;34m)\u001b[0m\u001b[0;34m\u001b[0m\u001b[0;34m\u001b[0m\u001b[0m\n\u001b[0m\u001b[1;32m    143\u001b[0m     return [\n\u001b[1;32m    144\u001b[0m         \u001b[0mtoken\u001b[0m \u001b[0;32mfor\u001b[0m \u001b[0msent\u001b[0m \u001b[0;32min\u001b[0m \u001b[0msentences\u001b[0m \u001b[0;32mfor\u001b[0m \u001b[0mtoken\u001b[0m \u001b[0;32min\u001b[0m \u001b[0m_treebank_word_tokenizer\u001b[0m\u001b[0;34m.\u001b[0m\u001b[0mtokenize\u001b[0m\u001b[0;34m(\u001b[0m\u001b[0msent\u001b[0m\u001b[0;34m)\u001b[0m\u001b[0;34m\u001b[0m\u001b[0;34m\u001b[0m\u001b[0m\n",
            "\u001b[0;32m/usr/local/lib/python3.11/dist-packages/nltk/tokenize/__init__.py\u001b[0m in \u001b[0;36msent_tokenize\u001b[0;34m(text, language)\u001b[0m\n\u001b[1;32m    117\u001b[0m     \u001b[0;34m:\u001b[0m\u001b[0mparam\u001b[0m \u001b[0mlanguage\u001b[0m\u001b[0;34m:\u001b[0m \u001b[0mthe\u001b[0m \u001b[0mmodel\u001b[0m \u001b[0mname\u001b[0m \u001b[0;32min\u001b[0m \u001b[0mthe\u001b[0m \u001b[0mPunkt\u001b[0m \u001b[0mcorpus\u001b[0m\u001b[0;34m\u001b[0m\u001b[0;34m\u001b[0m\u001b[0m\n\u001b[1;32m    118\u001b[0m     \"\"\"\n\u001b[0;32m--> 119\u001b[0;31m     \u001b[0mtokenizer\u001b[0m \u001b[0;34m=\u001b[0m \u001b[0m_get_punkt_tokenizer\u001b[0m\u001b[0;34m(\u001b[0m\u001b[0mlanguage\u001b[0m\u001b[0;34m)\u001b[0m\u001b[0;34m\u001b[0m\u001b[0;34m\u001b[0m\u001b[0m\n\u001b[0m\u001b[1;32m    120\u001b[0m     \u001b[0;32mreturn\u001b[0m \u001b[0mtokenizer\u001b[0m\u001b[0;34m.\u001b[0m\u001b[0mtokenize\u001b[0m\u001b[0;34m(\u001b[0m\u001b[0mtext\u001b[0m\u001b[0;34m)\u001b[0m\u001b[0;34m\u001b[0m\u001b[0;34m\u001b[0m\u001b[0m\n\u001b[1;32m    121\u001b[0m \u001b[0;34m\u001b[0m\u001b[0m\n",
            "\u001b[0;32m/usr/local/lib/python3.11/dist-packages/nltk/tokenize/__init__.py\u001b[0m in \u001b[0;36m_get_punkt_tokenizer\u001b[0;34m(language)\u001b[0m\n\u001b[1;32m    103\u001b[0m     \u001b[0;34m:\u001b[0m\u001b[0mtype\u001b[0m \u001b[0mlanguage\u001b[0m\u001b[0;34m:\u001b[0m \u001b[0mstr\u001b[0m\u001b[0;34m\u001b[0m\u001b[0;34m\u001b[0m\u001b[0m\n\u001b[1;32m    104\u001b[0m     \"\"\"\n\u001b[0;32m--> 105\u001b[0;31m     \u001b[0;32mreturn\u001b[0m \u001b[0mPunktTokenizer\u001b[0m\u001b[0;34m(\u001b[0m\u001b[0mlanguage\u001b[0m\u001b[0;34m)\u001b[0m\u001b[0;34m\u001b[0m\u001b[0;34m\u001b[0m\u001b[0m\n\u001b[0m\u001b[1;32m    106\u001b[0m \u001b[0;34m\u001b[0m\u001b[0m\n\u001b[1;32m    107\u001b[0m \u001b[0;34m\u001b[0m\u001b[0m\n",
            "\u001b[0;32m/usr/local/lib/python3.11/dist-packages/nltk/tokenize/punkt.py\u001b[0m in \u001b[0;36m__init__\u001b[0;34m(self, lang)\u001b[0m\n\u001b[1;32m   1742\u001b[0m     \u001b[0;32mdef\u001b[0m \u001b[0m__init__\u001b[0m\u001b[0;34m(\u001b[0m\u001b[0mself\u001b[0m\u001b[0;34m,\u001b[0m \u001b[0mlang\u001b[0m\u001b[0;34m=\u001b[0m\u001b[0;34m\"english\"\u001b[0m\u001b[0;34m)\u001b[0m\u001b[0;34m:\u001b[0m\u001b[0;34m\u001b[0m\u001b[0;34m\u001b[0m\u001b[0m\n\u001b[1;32m   1743\u001b[0m         \u001b[0mPunktSentenceTokenizer\u001b[0m\u001b[0;34m.\u001b[0m\u001b[0m__init__\u001b[0m\u001b[0;34m(\u001b[0m\u001b[0mself\u001b[0m\u001b[0;34m)\u001b[0m\u001b[0;34m\u001b[0m\u001b[0;34m\u001b[0m\u001b[0m\n\u001b[0;32m-> 1744\u001b[0;31m         \u001b[0mself\u001b[0m\u001b[0;34m.\u001b[0m\u001b[0mload_lang\u001b[0m\u001b[0;34m(\u001b[0m\u001b[0mlang\u001b[0m\u001b[0;34m)\u001b[0m\u001b[0;34m\u001b[0m\u001b[0;34m\u001b[0m\u001b[0m\n\u001b[0m\u001b[1;32m   1745\u001b[0m \u001b[0;34m\u001b[0m\u001b[0m\n\u001b[1;32m   1746\u001b[0m     \u001b[0;32mdef\u001b[0m \u001b[0mload_lang\u001b[0m\u001b[0;34m(\u001b[0m\u001b[0mself\u001b[0m\u001b[0;34m,\u001b[0m \u001b[0mlang\u001b[0m\u001b[0;34m=\u001b[0m\u001b[0;34m\"english\"\u001b[0m\u001b[0;34m)\u001b[0m\u001b[0;34m:\u001b[0m\u001b[0;34m\u001b[0m\u001b[0;34m\u001b[0m\u001b[0m\n",
            "\u001b[0;32m/usr/local/lib/python3.11/dist-packages/nltk/tokenize/punkt.py\u001b[0m in \u001b[0;36mload_lang\u001b[0;34m(self, lang)\u001b[0m\n\u001b[1;32m   1747\u001b[0m         \u001b[0;32mfrom\u001b[0m \u001b[0mnltk\u001b[0m\u001b[0;34m.\u001b[0m\u001b[0mdata\u001b[0m \u001b[0;32mimport\u001b[0m \u001b[0mfind\u001b[0m\u001b[0;34m\u001b[0m\u001b[0;34m\u001b[0m\u001b[0m\n\u001b[1;32m   1748\u001b[0m \u001b[0;34m\u001b[0m\u001b[0m\n\u001b[0;32m-> 1749\u001b[0;31m         \u001b[0mlang_dir\u001b[0m \u001b[0;34m=\u001b[0m \u001b[0mfind\u001b[0m\u001b[0;34m(\u001b[0m\u001b[0;34mf\"tokenizers/punkt_tab/{lang}/\"\u001b[0m\u001b[0;34m)\u001b[0m\u001b[0;34m\u001b[0m\u001b[0;34m\u001b[0m\u001b[0m\n\u001b[0m\u001b[1;32m   1750\u001b[0m         \u001b[0mself\u001b[0m\u001b[0;34m.\u001b[0m\u001b[0m_params\u001b[0m \u001b[0;34m=\u001b[0m \u001b[0mload_punkt_params\u001b[0m\u001b[0;34m(\u001b[0m\u001b[0mlang_dir\u001b[0m\u001b[0;34m)\u001b[0m\u001b[0;34m\u001b[0m\u001b[0;34m\u001b[0m\u001b[0m\n\u001b[1;32m   1751\u001b[0m         \u001b[0mself\u001b[0m\u001b[0;34m.\u001b[0m\u001b[0m_lang\u001b[0m \u001b[0;34m=\u001b[0m \u001b[0mlang\u001b[0m\u001b[0;34m\u001b[0m\u001b[0;34m\u001b[0m\u001b[0m\n",
            "\u001b[0;32m/usr/local/lib/python3.11/dist-packages/nltk/data.py\u001b[0m in \u001b[0;36mfind\u001b[0;34m(resource_name, paths)\u001b[0m\n\u001b[1;32m    577\u001b[0m     \u001b[0msep\u001b[0m \u001b[0;34m=\u001b[0m \u001b[0;34m\"*\"\u001b[0m \u001b[0;34m*\u001b[0m \u001b[0;36m70\u001b[0m\u001b[0;34m\u001b[0m\u001b[0;34m\u001b[0m\u001b[0m\n\u001b[1;32m    578\u001b[0m     \u001b[0mresource_not_found\u001b[0m \u001b[0;34m=\u001b[0m \u001b[0;34mf\"\\n{sep}\\n{msg}\\n{sep}\\n\"\u001b[0m\u001b[0;34m\u001b[0m\u001b[0;34m\u001b[0m\u001b[0m\n\u001b[0;32m--> 579\u001b[0;31m     \u001b[0;32mraise\u001b[0m \u001b[0mLookupError\u001b[0m\u001b[0;34m(\u001b[0m\u001b[0mresource_not_found\u001b[0m\u001b[0;34m)\u001b[0m\u001b[0;34m\u001b[0m\u001b[0;34m\u001b[0m\u001b[0m\n\u001b[0m\u001b[1;32m    580\u001b[0m \u001b[0;34m\u001b[0m\u001b[0m\n\u001b[1;32m    581\u001b[0m \u001b[0;34m\u001b[0m\u001b[0m\n",
            "\u001b[0;31mLookupError\u001b[0m: \n**********************************************************************\n  Resource \u001b[93mpunkt_tab\u001b[0m not found.\n  Please use the NLTK Downloader to obtain the resource:\n\n  \u001b[31m>>> import nltk\n  >>> nltk.download('punkt_tab')\n  \u001b[0m\n  For more information see: https://www.nltk.org/data.html\n\n  Attempted to load \u001b[93mtokenizers/punkt_tab/english/\u001b[0m\n\n  Searched in:\n    - '/root/nltk_data'\n**********************************************************************\n"
          ]
        }
      ]
    },
    {
      "cell_type": "code",
      "execution_count": null,
      "id": "536674de",
      "metadata": {
        "id": "536674de"
      },
      "outputs": [],
      "source": [
        "import nltk\n",
        "from nltk.tokenize import word_tokenize\n",
        "from collections import Counter\n",
        "import pickle\n",
        "\n",
        "# Ensure the punkt tokenizer is downloaded\n",
        "nltk.download('punkt')\n",
        "\n",
        "# Tokenization function\n",
        "def tokenize(text):\n",
        "    return word_tokenize(text.lower())  # Ensure we're using word_tokenize\n",
        "\n",
        "# Build vocabulary function\n",
        "def build_vocab(sentences, min_freq=2):\n",
        "    counter = Counter()\n",
        "    for s in sentences:\n",
        "        counter.update(tokenize(s))  # Tokenize each sentence\n",
        "    vocab = {'<pad>': 0, '<sos>': 1, '<eos>': 2, '<unk>': 3}\n",
        "    for word, freq in counter.items():\n",
        "        if freq >= min_freq:\n",
        "            vocab[word] = len(vocab)\n",
        "    return vocab\n",
        "\n",
        "# Assuming `pairs` is already defined (e.g., list of question pairs)\n",
        "all_q1 = [q1 for q1, _ in pairs]  # First question in each pair\n",
        "all_q2 = [q2 for _, q2 in pairs]  # Second question in each pair\n",
        "\n",
        "input_vocab = build_vocab(all_q1)  # Build vocabulary for first question\n",
        "target_vocab = build_vocab(all_q2)  # Build vocabulary for second question\n",
        "\n",
        "# Save vocabularies to a file\n",
        "with open(\"vocab.pkl\", \"wb\") as f:\n",
        "    pickle.dump((input_vocab, target_vocab), f)"
      ]
    },
    {
      "cell_type": "code",
      "execution_count": null,
      "id": "08cc4352",
      "metadata": {
        "id": "08cc4352"
      },
      "outputs": [],
      "source": [
        "# 📊 Dataset and DataLoader\n",
        "class ParaphraseDataset(Dataset):\n",
        "    def __init__(self, pairs, input_vocab, target_vocab):\n",
        "        self.pairs = pairs\n",
        "        self.input_vocab = input_vocab\n",
        "        self.target_vocab = target_vocab\n",
        "\n",
        "    def __len__(self): return len(self.pairs)\n",
        "\n",
        "    def __getitem__(self, idx):\n",
        "        q1, q2 = self.pairs[idx]\n",
        "        x = sentence_to_indices(q1, self.input_vocab)\n",
        "        y = [self.target_vocab['<sos>']] + sentence_to_indices(q2, self.target_vocab) + [self.target_vocab['<eos>']]\n",
        "        x = x[:MAX_LEN] + [self.input_vocab['<pad>']] * (MAX_LEN - len(x))\n",
        "        y = y[:MAX_LEN] + [self.target_vocab['<pad>']] * (MAX_LEN - len(y))\n",
        "        return torch.tensor(x), torch.tensor(y)\n",
        "\n",
        "train_data = ParaphraseDataset(pairs[:50000], input_vocab, target_vocab)\n",
        "train_loader = DataLoader(train_data, batch_size=64, shuffle=True)"
      ]
    },
    {
      "cell_type": "code",
      "execution_count": null,
      "id": "f9684a23",
      "metadata": {
        "id": "f9684a23"
      },
      "outputs": [],
      "source": [
        "# 🔧 Training\n",
        "input_emb = load_glove_embeddings(input_vocab)\n",
        "target_emb = load_glove_embeddings(target_vocab)\n",
        "\n",
        "model = TransformerParaphraser(input_vocab, target_vocab, input_emb, target_emb).to(DEVICE)\n",
        "optimizer = torch.optim.Adam(model.parameters(), lr=1e-3)\n",
        "criterion = nn.CrossEntropyLoss(ignore_index=target_vocab['<pad>'])\n",
        "\n",
        "for epoch in range(5):\n",
        "    model.train()\n",
        "    total_loss = 0\n",
        "    for x, y in train_loader:\n",
        "        x, y = x.to(DEVICE), y.to(DEVICE)\n",
        "        tgt_inp = y[:, :-1]\n",
        "        tgt_out = y[:, 1:]\n",
        "\n",
        "        pred = model(x, tgt_inp)\n",
        "        pred = pred.reshape(-1, pred.shape[-1])\n",
        "        tgt_out = tgt_out.reshape(-1)\n",
        "\n",
        "        loss = criterion(pred, tgt_out)\n",
        "        optimizer.zero_grad()\n",
        "        loss.backward()\n",
        "        optimizer.step()\n",
        "        total_loss += loss.item()\n",
        "    print(f\"Epoch {epoch+1}, Loss: {total_loss/len(train_loader):.4f}\")"
      ]
    },
    {
      "cell_type": "code",
      "execution_count": null,
      "id": "8f87085b",
      "metadata": {
        "id": "8f87085b"
      },
      "outputs": [],
      "source": [
        "# 💾 Save model and vocab\n",
        "torch.save(model.state_dict(), \"paraphrase_model.pt\")\n",
        "print(\"✅ Saved vocab.pkl and paraphrase_model.pt!\")"
      ]
    },
    {
      "cell_type": "code",
      "execution_count": null,
      "id": "f9b51e91",
      "metadata": {
        "id": "f9b51e91"
      },
      "outputs": [],
      "source": [
        "# 🔁 Beam decoding for inference\n",
        "def beam_decode(model, sentence, input_vocab, target_vocab, idx2word, beam_width=5, max_len=MAX_LEN, alpha=0.7):\n",
        "    model.eval()\n",
        "    src_tokens = sentence_to_indices(sentence, input_vocab)\n",
        "    src_tensor = torch.tensor(src_tokens[:MAX_LEN] + [input_vocab['<pad>']] * (MAX_LEN - len(src_tokens))).unsqueeze(0).to(DEVICE)\n",
        "    src_mask = (src_tensor == input_vocab['<pad>'])\n",
        "    memory = model.src_embed(src_tensor) + model.pos_enc[:, :src_tensor.size(1)].to(DEVICE)\n",
        "    memory = model.tr.encoder(memory, src_key_padding_mask=src_mask)\n",
        "    beams = [(torch.tensor([target_vocab['<sos>']], device=DEVICE), [], 0.0)]\n",
        "    for _ in range(max_len):\n",
        "        new_beams = []\n",
        "        for tokens, words, score in beams:\n",
        "            tgt_mask = model.generate_square_subsequent_mask(tokens.size(0)).to(DEVICE)\n",
        "            tgt_emb = model.tgt_embed(tokens.unsqueeze(0)) + model.pos_enc[:, :tokens.size(0)]\n",
        "            decoder_out = model.tr.decoder(tgt_emb, memory, tgt_mask=tgt_mask)\n",
        "            logits = model.fc(decoder_out[:, -1])\n",
        "            log_probs = torch.log_softmax(logits, dim=-1)\n",
        "            topk = torch.topk(log_probs, beam_width)\n",
        "            for i in range(beam_width):\n",
        "                idx = topk.indices[0][i].item()\n",
        "                word = idx2word.get(idx, '<unk>')\n",
        "                new_score = score + topk.values[0][i].item()\n",
        "                if word == '<eos>':\n",
        "                    return ' '.join(words)\n",
        "                new_tokens = torch.cat([tokens, torch.tensor([idx], device=DEVICE)])\n",
        "                new_beams.append((new_tokens, words + [word], new_score))\n",
        "        beams = sorted(new_beams, key=lambda x: x[2] / ((5 + len(x[1])) ** alpha / 6**alpha), reverse=True)[:beam_width]\n",
        "    return ' '.join(beams[0][1])"
      ]
    },
    {
      "cell_type": "code",
      "execution_count": null,
      "id": "b94ffd88",
      "metadata": {
        "id": "b94ffd88"
      },
      "outputs": [],
      "source": [
        "# 🔁 Beam decoding for inference\n",
        "def beam_decode(model, sentence, input_vocab, target_vocab, idx2word, beam_width=5, max_len=MAX_LEN, alpha=0.7):\n",
        "    model.eval()\n",
        "    src_tokens = sentence_to_indices(sentence, input_vocab)\n",
        "    src_tensor = torch.tensor(src_tokens[:MAX_LEN] + [input_vocab['<pad>']] * (MAX_LEN - len(src_tokens))).unsqueeze(0).to(DEVICE)\n",
        "    src_mask = (src_tensor == input_vocab['<pad>'])\n",
        "    memory = model.src_embed(src_tensor) + model.pos_enc[:, :src_tensor.size(1)].to(DEVICE)\n",
        "    memory = model.tr.encoder(memory, src_key_padding_mask=src_mask)\n",
        "    beams = [(torch.tensor([target_vocab['<sos>']], device=DEVICE), [], 0.0)]\n",
        "    for _ in range(max_len):\n",
        "        new_beams = []\n",
        "        for tokens, words, score in beams:\n",
        "            tgt_mask = model.generate_square_subsequent_mask(tokens.size(0)).to(DEVICE)\n",
        "            tgt_emb = model.tgt_embed(tokens.unsqueeze(0)) + model.pos_enc[:, :tokens.size(0)]\n",
        "            decoder_out = model.tr.decoder(tgt_emb, memory, tgt_mask=tgt_mask)\n",
        "            logits = model.fc(decoder_out[:, -1])\n",
        "            log_probs = torch.log_softmax(logits, dim=-1)\n",
        "            topk = torch.topk(log_probs, beam_width)\n",
        "            for i in range(beam_width):\n",
        "                idx = topk.indices[0][i].item()\n",
        "                word = idx2word.get(idx, '<unk>')\n",
        "                new_score = score + topk.values[0][i].item()\n",
        "                if word == '<eos>':\n",
        "                    return ' '.join(words)\n",
        "                new_tokens = torch.cat([tokens, torch.tensor([idx], device=DEVICE)])\n",
        "                new_beams.append((new_tokens, words + [word], new_score))\n",
        "        beams = sorted(new_beams, key=lambda x: x[2] / ((5 + len(x[1])) ** alpha / 6**alpha), reverse=True)[:beam_width]\n",
        "    return ' '.join(beams[0][1])"
      ]
    },
    {
      "cell_type": "code",
      "execution_count": null,
      "id": "01f01919",
      "metadata": {
        "id": "01f01919"
      },
      "outputs": [],
      "source": [
        "# 🧪 Try out paraphrasing\n",
        "idx2word = {i: w for w, i in target_vocab.items()}\n",
        "while True:\n",
        "    sentence = input(\"\\nEnter sentence to paraphrase (or type 'exit'): \")\n",
        "    if sentence.lower().strip() == 'exit': break\n",
        "    print(\"Paraphrase:\", beam_decode(model, sentence, input_vocab, target_vocab, idx2word))"
      ]
    }
  ],
  "metadata": {
    "colab": {
      "provenance": [],
      "gpuType": "T4"
    },
    "language_info": {
      "name": "python"
    },
    "kernelspec": {
      "name": "python3",
      "display_name": "Python 3"
    },
    "accelerator": "GPU"
  },
  "nbformat": 4,
  "nbformat_minor": 5
}